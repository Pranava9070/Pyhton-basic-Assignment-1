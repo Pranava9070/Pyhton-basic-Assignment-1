{
  "nbformat": 4,
  "nbformat_minor": 0,
  "metadata": {
    "colab": {
      "provenance": []
    },
    "kernelspec": {
      "name": "python3",
      "display_name": "Python 3"
    },
    "language_info": {
      "name": "python"
    }
  },
  "cells": [
    {
      "cell_type": "code",
      "execution_count": null,
      "metadata": {
        "id": "ETDzfTcSvVTe"
      },
      "outputs": [],
      "source": []
    },
    {
      "cell_type": "markdown",
      "source": [
        "1. What is Python, and why is it popular ?\n",
        "   - Pyhton is a programming language that is easy to write , understand and compatitble with various programming paradigms. Its is popular because of its large and active community of developers, an extensive standard library, and third party packages for various domains.\n",
        "\n",
        "\n",
        "2. What is an interpreter in Python ?\n",
        "    - The interpreter translates the Python code into machine-readable bytecode, which it then executes. This process happens in real time, so you can see the results of your code immediately.\n",
        "\n",
        "\n",
        "3.  What are pre-defined keywords in Python ?\n",
        "    - Pre-defined keywords are reserved words in Python that have special meanings and cannot be used as identifiers and they are case sensitive as they cannot be redefined or overridden within a Python program. for example - if, else, while, for, def, class.\n",
        "\n",
        "\n",
        "4. Can keywords be used as variable names ?\n",
        "  - No, keywords cannot be used as variable names as they cannot be used as identifiers.\n",
        "\n",
        "\n",
        "5. What is mutability in Python ?\n",
        "  - Mutability in Python means objects that can be changeable or modified after creation such as lists and dictionaries can be modified after creation.\n",
        "\n",
        "\n",
        "6. Why are lists mutable, but tuples are immutable ?\n",
        "   - The basic difference is that tuples use parentheses instead of square brackerts and are more memory efficient compared to list thats why tuples are immutable.\n",
        "\n",
        "\n",
        "7. What is the difference between “==” and “is” operators in Python ?\n",
        "  - The main difference is that \"==\" it compares the values of two objetcs. It returns if the value are equal and false if they are not. While \"is\" checks if two variables point to the same object in memory and returns true if the variables point to the same object and false if they do not.\n",
        "\n",
        "\n",
        "8. What are logical operators in Python ?\n",
        "   - They are keywords that combine and evaluate multiple conditions in a single expression. As they are essential for decision making and do computation. Logical Operators include keywords like \"And\" , \"or\" .\n",
        "\n",
        "9. What is type casting in Python ?\n",
        "   - Type casting is also known as type conversion. It is the process of changing one data type to another. Data types includes such as int(), float(), str(), list(), etc. as they can be change from one data type to another.\n",
        "\n",
        "\n",
        "10. What is the difference between implicit and explicit type casting ?\n",
        "   - Implicit Type casting is when the compiler automatically converts a value to a different data type without data loss. Its typically used to convert smaller data types to larger data types.\n",
        "      Explicit Type Casting is when the programmermanually defines the type conversion. Its used when there's a possibility of data loss and it gives the programmer more control over the data conversion process.\n",
        "\n",
        "\n",
        "11. What is the purpose of conditional statements in Python ?\n",
        "    - Conditional Statements are used to execute code based on the evaluation of one or more conditions using if, elif , and else as to control the flow of execution. It can be nested to handle multiple conditions and control different branches of execution based on the outcome of logical expressions.\n",
        "\n",
        "\n",
        "12. How does the elif statement work ?\n",
        "    - Elif (Else If) is used when the first if statement isn't true and we want to check for another condition. If statement pair up with elif and else statements to perform a series of checks.\n",
        "\n",
        "\n",
        "13. What is the difference between for and while loops ?\n",
        "   - For Loop is used to repeat a block of code a specific number of times. It is used when the number of iterations is known ahead of time.\n",
        "     While Loop is used to repeat a block of code as unkown number of times until a condition is met. It is used when the number of iterations is unkown.\n",
        "\n",
        "\n",
        "14. Describe a scenario where a while loop is more suitable than a for loop ?\n",
        "   - Imagine we are building a program that repeatedly prompts a user to enter a valid password. We don't know how many attempts the user will need before they enter the correct password, and the loop should continue as long as the user keeps providing incorrect input. In this case, a while loop is more appropriate because you are repeatedly checking a condition until it becomes true.\n",
        "\n"
      ],
      "metadata": {
        "id": "DJiB3yKcvbcX"
      }
    },
    {
      "cell_type": "code",
      "source": [
        "#Write a Python program to print \"Hello, World! ?\n",
        "print (\"Hello, World!\")"
      ],
      "metadata": {
        "colab": {
          "base_uri": "https://localhost:8080/"
        },
        "id": "zpeD4hkB9hX1",
        "outputId": "ce347938-1321-4b6f-8675-07aed9f43868"
      },
      "execution_count": 2,
      "outputs": [
        {
          "output_type": "stream",
          "name": "stdout",
          "text": [
            "Hello, World!\n"
          ]
        }
      ]
    },
    {
      "cell_type": "code",
      "source": [
        "#Write a Python program that displays your name and age ?\n",
        "name = \"Pranav\"\n",
        "age = 27\n",
        "print(name)\n",
        "print(age)"
      ],
      "metadata": {
        "colab": {
          "base_uri": "https://localhost:8080/"
        },
        "id": "E0iOMhTBEmat",
        "outputId": "23fd8274-139e-459b-afdf-6af8c1dd49dd"
      },
      "execution_count": 25,
      "outputs": [
        {
          "output_type": "stream",
          "name": "stdout",
          "text": [
            "Pranav\n",
            "27\n"
          ]
        }
      ]
    },
    {
      "cell_type": "code",
      "source": [
        "# Write code to print all the pre-defined keywords in Python using the keyword library ?\n",
        "help ( 'keywords')"
      ],
      "metadata": {
        "colab": {
          "base_uri": "https://localhost:8080/"
        },
        "id": "l_By4j33QDzm",
        "outputId": "cd964ebf-1d94-44bb-a956-9535acc47f08"
      },
      "execution_count": 24,
      "outputs": [
        {
          "output_type": "stream",
          "name": "stdout",
          "text": [
            "\n",
            "Here is a list of the Python keywords.  Enter any keyword to get more help.\n",
            "\n",
            "False               class               from                or\n",
            "None                continue            global              pass\n",
            "True                def                 if                  raise\n",
            "and                 del                 import              return\n",
            "as                  elif                in                  try\n",
            "assert              else                is                  while\n",
            "async               except              lambda              with\n",
            "await               finally             nonlocal            yield\n",
            "break               for                 not                 \n",
            "\n"
          ]
        }
      ]
    },
    {
      "cell_type": "code",
      "source": [
        "#Write a program that checks if a given word is a Python keyword ?\n",
        "import keyword\n",
        "keyword.iskeyword('true')\n"
      ],
      "metadata": {
        "colab": {
          "base_uri": "https://localhost:8080/"
        },
        "id": "HPsAxOztVAfC",
        "outputId": "8af3cc36-b883-48e2-d102-4f7f44c94a6d"
      },
      "execution_count": 26,
      "outputs": [
        {
          "output_type": "execute_result",
          "data": {
            "text/plain": [
              "False"
            ]
          },
          "metadata": {},
          "execution_count": 26
        }
      ]
    },
    {
      "cell_type": "code",
      "source": [
        "#Create a list and tuple in Python, and demonstrate how attempting to change an element works differently\n",
        "#for each ?\n",
        "list_cont = [1, 2, 3, 4.3, 3+5j, \"Pranav\"]\n",
        "tuple_cont = (1, 2, 3, 4.3, 3+5j, \"Pranav\")\n",
        "list_cont [2] = 6"
      ],
      "metadata": {
        "id": "LRGMwe8RtGv2"
      },
      "execution_count": 47,
      "outputs": []
    },
    {
      "cell_type": "code",
      "source": [
        "list_cont"
      ],
      "metadata": {
        "colab": {
          "base_uri": "https://localhost:8080/"
        },
        "id": "KKES_E3ftovc",
        "outputId": "1d710222-1860-48a8-a82d-c85216922eb9"
      },
      "execution_count": 48,
      "outputs": [
        {
          "output_type": "execute_result",
          "data": {
            "text/plain": [
              "[1, 2, 6, 4.3, (3+5j), 'Pranav']"
            ]
          },
          "metadata": {},
          "execution_count": 48
        }
      ]
    },
    {
      "cell_type": "code",
      "source": [
        "tuple_cont [2] = 6"
      ],
      "metadata": {
        "colab": {
          "base_uri": "https://localhost:8080/",
          "height": 144
        },
        "id": "StmNDZVPtsD9",
        "outputId": "5f642051-ac26-402a-a6e6-5f4521dba107"
      },
      "execution_count": 49,
      "outputs": [
        {
          "output_type": "error",
          "ename": "TypeError",
          "evalue": "'tuple' object does not support item assignment",
          "traceback": [
            "\u001b[0;31m---------------------------------------------------------------------------\u001b[0m",
            "\u001b[0;31mTypeError\u001b[0m                                 Traceback (most recent call last)",
            "\u001b[0;32m<ipython-input-49-ba12224f4cc2>\u001b[0m in \u001b[0;36m<cell line: 1>\u001b[0;34m()\u001b[0m\n\u001b[0;32m----> 1\u001b[0;31m \u001b[0mtuple_cont\u001b[0m \u001b[0;34m[\u001b[0m\u001b[0;36m2\u001b[0m\u001b[0;34m]\u001b[0m \u001b[0;34m=\u001b[0m \u001b[0;36m6\u001b[0m\u001b[0;34m\u001b[0m\u001b[0;34m\u001b[0m\u001b[0m\n\u001b[0m",
            "\u001b[0;31mTypeError\u001b[0m: 'tuple' object does not support item assignment"
          ]
        }
      ]
    },
    {
      "cell_type": "code",
      "source": [
        "tuple_cont"
      ],
      "metadata": {
        "colab": {
          "base_uri": "https://localhost:8080/"
        },
        "id": "NP43rOqwt2Ww",
        "outputId": "40a0c593-e6b6-486c-d0c9-1ac2030b373d"
      },
      "execution_count": 50,
      "outputs": [
        {
          "output_type": "execute_result",
          "data": {
            "text/plain": [
              "(1, 2, 3, 4.3, (3+5j), 'Pranav')"
            ]
          },
          "metadata": {},
          "execution_count": 50
        }
      ]
    },
    {
      "cell_type": "code",
      "source": [
        "#Write a function to demonstrate the behavior of mutable and immutable arguments ?\n",
        "#mutable\n",
        "my_list = [1, 2, 3, 4.3, 3+5j, True, \"Ajay\"]\n",
        "my_list[4] = False\n",
        "my_list"
      ],
      "metadata": {
        "colab": {
          "base_uri": "https://localhost:8080/"
        },
        "id": "ZZ0VNEMpt5t1",
        "outputId": "154e11fc-a349-4012-fbc7-0047f92e9ced"
      },
      "execution_count": 53,
      "outputs": [
        {
          "output_type": "execute_result",
          "data": {
            "text/plain": [
              "[1, 2, 3, 4.3, False, True, 'Ajay']"
            ]
          },
          "metadata": {},
          "execution_count": 53
        }
      ]
    },
    {
      "cell_type": "code",
      "source": [
        "#Immutable\n",
        "a = \"pranav\"\n",
        "a[0] = \"rohit\""
      ],
      "metadata": {
        "colab": {
          "base_uri": "https://localhost:8080/",
          "height": 180
        },
        "id": "svWan8uIv-O1",
        "outputId": "91d92d85-80da-4772-ac6d-3974a04139ba"
      },
      "execution_count": 54,
      "outputs": [
        {
          "output_type": "error",
          "ename": "TypeError",
          "evalue": "'str' object does not support item assignment",
          "traceback": [
            "\u001b[0;31m---------------------------------------------------------------------------\u001b[0m",
            "\u001b[0;31mTypeError\u001b[0m                                 Traceback (most recent call last)",
            "\u001b[0;32m<ipython-input-54-612708322aa3>\u001b[0m in \u001b[0;36m<cell line: 3>\u001b[0;34m()\u001b[0m\n\u001b[1;32m      1\u001b[0m \u001b[0;31m#Immutable\u001b[0m\u001b[0;34m\u001b[0m\u001b[0;34m\u001b[0m\u001b[0m\n\u001b[1;32m      2\u001b[0m \u001b[0ma\u001b[0m \u001b[0;34m=\u001b[0m \u001b[0;34m\"pranav\"\u001b[0m\u001b[0;34m\u001b[0m\u001b[0;34m\u001b[0m\u001b[0m\n\u001b[0;32m----> 3\u001b[0;31m \u001b[0ma\u001b[0m\u001b[0;34m[\u001b[0m\u001b[0;36m0\u001b[0m\u001b[0;34m]\u001b[0m \u001b[0;34m=\u001b[0m \u001b[0;34m\"rohit\"\u001b[0m\u001b[0;34m\u001b[0m\u001b[0;34m\u001b[0m\u001b[0m\n\u001b[0m",
            "\u001b[0;31mTypeError\u001b[0m: 'str' object does not support item assignment"
          ]
        }
      ]
    },
    {
      "cell_type": "code",
      "source": [
        "# Write a program to demonstrate the use of logical operators ?\n",
        "#and\n",
        "grade = 8\n",
        "co_cirr = True\n",
        "if ((grade >=8) and (co_cirr == True)):\n",
        "    print(\"You are all rounder\")"
      ],
      "metadata": {
        "colab": {
          "base_uri": "https://localhost:8080/"
        },
        "id": "2JatX8LdwXqW",
        "outputId": "795d85f6-6ae2-4131-84ff-430785b1d91c"
      },
      "execution_count": 55,
      "outputs": [
        {
          "output_type": "stream",
          "name": "stdout",
          "text": [
            "You are all rounder\n"
          ]
        }
      ]
    },
    {
      "cell_type": "code",
      "source": [
        "#or\n",
        "number = 50\n",
        "if ((number % 2 == 0) or (number > 0)):\n",
        "    print(\"This number is correct\")"
      ],
      "metadata": {
        "colab": {
          "base_uri": "https://localhost:8080/"
        },
        "id": "WbTAIGMv05V6",
        "outputId": "f6e61dc8-132b-4970-8b09-be2500d3d553"
      },
      "execution_count": 58,
      "outputs": [
        {
          "output_type": "stream",
          "name": "stdout",
          "text": [
            "This number is correct\n"
          ]
        }
      ]
    },
    {
      "cell_type": "code",
      "source": [
        "#Write a Python program to convert user input from string to integer, float, and boolean types ?\n",
        "#String to Integer\n",
        "p = \"5\"\n",
        "print(type(p))\n",
        "print(type(int(p)))"
      ],
      "metadata": {
        "colab": {
          "base_uri": "https://localhost:8080/"
        },
        "id": "PtUhb1ca1R5D",
        "outputId": "f31ebd29-9193-49d8-e314-8b3abd96c8ff"
      },
      "execution_count": 59,
      "outputs": [
        {
          "output_type": "stream",
          "name": "stdout",
          "text": [
            "<class 'str'>\n",
            "<class 'int'>\n"
          ]
        }
      ]
    },
    {
      "cell_type": "code",
      "source": [
        "#String to float\n",
        "p = \"5\"\n",
        "a = float (p)\n",
        "type(a)"
      ],
      "metadata": {
        "colab": {
          "base_uri": "https://localhost:8080/"
        },
        "id": "FAhggJcQ9PEO",
        "outputId": "f1d863d9-ca7b-434b-e0c6-ee4af52f63d6"
      },
      "execution_count": 5,
      "outputs": [
        {
          "output_type": "execute_result",
          "data": {
            "text/plain": [
              "float"
            ]
          },
          "metadata": {},
          "execution_count": 5
        }
      ]
    },
    {
      "cell_type": "code",
      "source": [
        "#String to boolean\n",
        "p = \"5\"\n",
        "bool(5)"
      ],
      "metadata": {
        "colab": {
          "base_uri": "https://localhost:8080/"
        },
        "id": "a7z87pyRxQI0",
        "outputId": "f5fc1955-3643-4465-a1b6-15ae488a188c"
      },
      "execution_count": 7,
      "outputs": [
        {
          "output_type": "execute_result",
          "data": {
            "text/plain": [
              "True"
            ]
          },
          "metadata": {},
          "execution_count": 7
        }
      ]
    },
    {
      "cell_type": "code",
      "source": [
        "#Write code to demonstrate type casting with list elements ?\n",
        "list_cont = [1, \"2\", 3, 4.3, 3+5j, \"Pranav\"]\n",
        "int(2)"
      ],
      "metadata": {
        "colab": {
          "base_uri": "https://localhost:8080/"
        },
        "id": "Lhci_8OMx6i_",
        "outputId": "e44f660d-d30b-41c5-89be-353b86409766"
      },
      "execution_count": 12,
      "outputs": [
        {
          "output_type": "execute_result",
          "data": {
            "text/plain": [
              "2"
            ]
          },
          "metadata": {},
          "execution_count": 12
        }
      ]
    },
    {
      "cell_type": "code",
      "source": [
        "float(3)"
      ],
      "metadata": {
        "colab": {
          "base_uri": "https://localhost:8080/"
        },
        "id": "trZoVf9M1Fur",
        "outputId": "e13f4436-26c4-4bf0-889f-df7e41354cb7"
      },
      "execution_count": 10,
      "outputs": [
        {
          "output_type": "execute_result",
          "data": {
            "text/plain": [
              "3.0"
            ]
          },
          "metadata": {},
          "execution_count": 10
        }
      ]
    },
    {
      "cell_type": "code",
      "source": [
        "bool(3)"
      ],
      "metadata": {
        "colab": {
          "base_uri": "https://localhost:8080/"
        },
        "id": "VqDhhqLs1Mjf",
        "outputId": "f683d9df-ef38-45a9-f17a-b21d83053f0d"
      },
      "execution_count": 11,
      "outputs": [
        {
          "output_type": "execute_result",
          "data": {
            "text/plain": [
              "True"
            ]
          },
          "metadata": {},
          "execution_count": 11
        }
      ]
    },
    {
      "cell_type": "code",
      "source": [
        "type(\"2\")"
      ],
      "metadata": {
        "colab": {
          "base_uri": "https://localhost:8080/"
        },
        "id": "Biw6RcT31Tdy",
        "outputId": "9f22bc83-5e1d-455f-f919-f520a7a493c0"
      },
      "execution_count": 13,
      "outputs": [
        {
          "output_type": "execute_result",
          "data": {
            "text/plain": [
              "str"
            ]
          },
          "metadata": {},
          "execution_count": 13
        }
      ]
    },
    {
      "cell_type": "code",
      "source": [
        "# Write a program that checks if a number is positive, negative, or zero ?\n",
        "a = 0\n",
        "if (a > 0):\n",
        "  print(\"Number is positive\")\n",
        "elif (a < 0):\n",
        "  print(\"Number is negative\")\n",
        "else:\n",
        "  print(\"Number is zero\")\n"
      ],
      "metadata": {
        "colab": {
          "base_uri": "https://localhost:8080/"
        },
        "id": "b0X9-UN51sTS",
        "outputId": "341f01b3-9c29-44a0-9761-c99c611104a8"
      },
      "execution_count": 14,
      "outputs": [
        {
          "output_type": "stream",
          "name": "stdout",
          "text": [
            "Number is zero\n"
          ]
        }
      ]
    },
    {
      "cell_type": "code",
      "source": [
        "#Write a for loop to print numbers from 1 to 100 ?\n",
        "for i in range(1, 101):\n",
        "  print(i, end=\" \")"
      ],
      "metadata": {
        "colab": {
          "base_uri": "https://localhost:8080/"
        },
        "id": "BDkyWS-H3MWf",
        "outputId": "969c044b-cc5a-46a3-b64f-dfd51ee3aebf"
      },
      "execution_count": 17,
      "outputs": [
        {
          "output_type": "stream",
          "name": "stdout",
          "text": [
            "1 2 3 4 5 6 7 8 9 10 11 12 13 14 15 16 17 18 19 20 21 22 23 24 25 26 27 28 29 30 31 32 33 34 35 36 37 38 39 40 41 42 43 44 45 46 47 48 49 50 51 52 53 54 55 56 57 58 59 60 61 62 63 64 65 66 67 68 69 70 71 72 73 74 75 76 77 78 79 80 81 82 83 84 85 86 87 88 89 90 91 92 93 94 95 96 97 98 99 100 "
          ]
        }
      ]
    },
    {
      "cell_type": "code",
      "source": [
        "#Write a Python program to find the sum of all even numbers between 1 and 500 ?\n",
        "sum = 0\n",
        "for i in range(1, 501):\n",
        "  if (i % 2 == 0):\n",
        "    sum = sum + i\n",
        "print(sum)"
      ],
      "metadata": {
        "colab": {
          "base_uri": "https://localhost:8080/"
        },
        "id": "tS-JYV_Z3wfu",
        "outputId": "6771acd8-98b3-4b13-d106-7be3465a035f"
      },
      "execution_count": 18,
      "outputs": [
        {
          "output_type": "stream",
          "name": "stdout",
          "text": [
            "62750\n"
          ]
        }
      ]
    },
    {
      "cell_type": "code",
      "source": [
        "#Write a program to reverse a string using a while loop ?\n",
        "def reverse_string_while(input_string):\n",
        "    reversed_string = \"\"\n",
        "    index = len(input_string) - 1\n",
        "    while index >= 0:\n",
        "        reversed_string += input_string[index]\n",
        "        index -= 1"
      ],
      "metadata": {
        "id": "Q03KGK7f4G8X"
      },
      "execution_count": 21,
      "outputs": []
    },
    {
      "cell_type": "code",
      "source": [
        "#Write a Python program to calculate the factorial of a number provided by the user using a while loop ?\n",
        "def factorial_while(n):\n",
        "    if n < 0:\n",
        "        return \"Factorial is not defined for negative numbers.\""
      ],
      "metadata": {
        "id": "lbTd9iLn46mx"
      },
      "execution_count": 23,
      "outputs": []
    },
    {
      "cell_type": "code",
      "source": [],
      "metadata": {
        "id": "ZyCKPXoq-ySk"
      },
      "execution_count": null,
      "outputs": []
    }
  ]
}